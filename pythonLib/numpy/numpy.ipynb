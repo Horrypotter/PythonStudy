{
 "cells": [
  {
   "cell_type": "markdown",
   "metadata": {},
   "source": [
    "## 科学计算库numpy"
   ]
  },
  {
   "cell_type": "markdown",
   "metadata": {},
   "source": [
    "### 1. 从文件读取数据"
   ]
  },
  {
   "cell_type": "code",
   "execution_count": 110,
   "metadata": {
    "scrolled": true
   },
   "outputs": [
    {
     "name": "stdout",
     "output_type": "stream",
     "text": [
      "<class 'numpy.ndarray'>\n",
      "[['b' 'a' 'china' '']\n",
      " ['zhan' 'sa' 'lis' 'k']]\n",
      "zhan\n",
      "k\n"
     ]
    }
   ],
   "source": [
    "import numpy\n",
    "from numpy import pi\n",
    "words = numpy.genfromtxt(\"words.txt\", delimiter=\",\", dtype=str, skip_header=1)\n",
    "print(type(words))\n",
    "#print(help(numpy.genfromtxt))\n",
    "print(words)\n",
    "print(words[1,0])\n",
    "print(words[1,3])\n"
   ]
  },
  {
   "cell_type": "markdown",
   "metadata": {},
   "source": [
    "### 2. 创建向量和矩阵"
   ]
  },
  {
   "cell_type": "code",
   "execution_count": 111,
   "metadata": {},
   "outputs": [
    {
     "name": "stdout",
     "output_type": "stream",
     "text": [
      "[ 5 10 15 20]\n",
      "(4,)\n",
      "[[ 5 10 15]\n",
      " [ 3  4  5]]\n",
      "(2, 3)\n"
     ]
    }
   ],
   "source": [
    "vector = numpy.array([5, 10, 15, 20])\n",
    "matrix = numpy.array([[5, 10 ,15], [3, 4, 5]])\n",
    "print (vector)\n",
    "#打印维度\n",
    "print (vector.shape)\n",
    "\n",
    "print (matrix)\n",
    "print (matrix.shape)"
   ]
  },
  {
   "cell_type": "code",
   "execution_count": 112,
   "metadata": {},
   "outputs": [
    {
     "name": "stdout",
     "output_type": "stream",
     "text": [
      "[1 2 3 4]\n"
     ]
    },
    {
     "data": {
      "text/plain": [
       "dtype('int64')"
      ]
     },
     "execution_count": 112,
     "metadata": {},
     "output_type": "execute_result"
    }
   ],
   "source": [
    "# 在array中，每个值的类型必须保持一致，否则会类型转换\n",
    "num = numpy.array([1, 2, 3, 4])\n",
    "print (num)\n",
    "num.dtype"
   ]
  },
  {
   "cell_type": "markdown",
   "metadata": {},
   "source": [
    "### 3. 切片"
   ]
  },
  {
   "cell_type": "code",
   "execution_count": 113,
   "metadata": {},
   "outputs": [
    {
     "name": "stdout",
     "output_type": "stream",
     "text": [
      "[ 5 10 15]\n"
     ]
    }
   ],
   "source": [
    "vector = numpy.array([5, 10, 15, 20])\n",
    "print(vector[0:3])"
   ]
  },
  {
   "cell_type": "code",
   "execution_count": 114,
   "metadata": {},
   "outputs": [
    {
     "name": "stdout",
     "output_type": "stream",
     "text": [
      "[10  2  4]\n",
      "[[ 5 10]\n",
      " [ 1  2]\n",
      " [ 3  4]]\n",
      "[[2 3]\n",
      " [4 5]]\n"
     ]
    }
   ],
   "source": [
    "matrix = numpy.array([[5, 10 ,15], [1, 2, 3], [3, 4, 5]])\n",
    "print(matrix[:,1])\n",
    "print(matrix[:,0:2])\n",
    "print(matrix[1:3,1:3])"
   ]
  },
  {
   "cell_type": "markdown",
   "metadata": {},
   "source": [
    "### 4.判断"
   ]
  },
  {
   "cell_type": "code",
   "execution_count": 115,
   "metadata": {},
   "outputs": [
    {
     "name": "stdout",
     "output_type": "stream",
     "text": [
      "[False False False  True False False False]\n",
      "[4]\n",
      "[[False False  True]\n",
      " [False False False]\n",
      " [False False False]]\n",
      "[False False False False False False False]\n",
      "[ True False False False  True False False]\n"
     ]
    }
   ],
   "source": [
    "vector = numpy.array([1, 2, 3, 4, 5, 6, 7])\n",
    "equal_to_ten = (vector == 4)\n",
    "print (equal_to_ten)\n",
    "#取出那个索引值，和matlab太像了\n",
    "print(vector[equal_to_ten])\n",
    "\n",
    "matrix = numpy.array([[5, 10 ,15], [1, 2, 3], [3, 4, 5]])\n",
    "a = matrix == 15\n",
    "print (a)\n",
    "\n",
    "equal_one_and_five = (vector == 1) & (vector == 5)\n",
    "print (equal_one_and_five)\n",
    "equal_one_or_five = (vector == 1) | (vector == 5)\n",
    "print (equal_one_or_five)"
   ]
  },
  {
   "cell_type": "markdown",
   "metadata": {},
   "source": [
    "### 5.类型转换"
   ]
  },
  {
   "cell_type": "code",
   "execution_count": 116,
   "metadata": {},
   "outputs": [
    {
     "name": "stdout",
     "output_type": "stream",
     "text": [
      "<U1\n",
      "['1' '2' '3']\n",
      "float64\n",
      "[ 1.  2.  3.]\n"
     ]
    }
   ],
   "source": [
    "vector = numpy.array([\"1\", \"2\", \"3\"])\n",
    "print (vector.dtype)\n",
    "print (vector)\n",
    "\n",
    "vector = vector.astype(float)\n",
    "print (vector.dtype)\n",
    "print (vector)\n"
   ]
  },
  {
   "cell_type": "markdown",
   "metadata": {},
   "source": [
    "### 6.统计"
   ]
  },
  {
   "cell_type": "code",
   "execution_count": 175,
   "metadata": {},
   "outputs": [
    {
     "name": "stdout",
     "output_type": "stream",
     "text": [
      "1\n",
      "4.0\n",
      "28\n",
      "[[ 5 10 15]\n",
      " [ 1  2  3]\n",
      " [ 3  4  5]]\n",
      "15\n",
      "48\n",
      "[30  6 12]\n",
      "[1 2 3]\n"
     ]
    }
   ],
   "source": [
    "vector = numpy.array([1, 2, 3, 4, 5, 6, 7])\n",
    "print(vector.min())\n",
    "print(vector.mean())\n",
    "print(vector.sum())\n",
    "matrix = numpy.array([[5, 10 ,15], [1, 2, 3], [3, 4, 5]])\n",
    "print(matrix)\n",
    "print(matrix.max())\n",
    "print(matrix.sum())\n",
    "#按行的维度计算\n",
    "print(matrix.sum(axis=1))\n",
    "#按列的维度计算\n",
    "print(matrix.min(axis=0))"
   ]
  },
  {
   "cell_type": "markdown",
   "metadata": {},
   "source": [
    "### 7.造数组和矩阵"
   ]
  },
  {
   "cell_type": "code",
   "execution_count": 118,
   "metadata": {},
   "outputs": [
    {
     "name": "stdout",
     "output_type": "stream",
     "text": [
      "[ 0  1  2  3  4  5  6  7  8  9 10 11 12 13 14]\n",
      "[[ 0  1  2  3  4]\n",
      " [ 5  6  7  8  9]\n",
      " [10 11 12 13 14]]\n",
      "(3, 5)\n",
      "2\n",
      "int64\n",
      "15\n"
     ]
    }
   ],
   "source": [
    "print(numpy.arange(15))\n",
    "a = numpy.arange(15).reshape(3, 5)\n",
    "print (a)\n",
    "#打印维度\n",
    "print(a.shape)\n",
    "#打印维度的数量\n",
    "print(a.ndim)\n",
    "print(a.dtype.name)\n",
    "#打印总元素数量\n",
    "print(a.size)"
   ]
  },
  {
   "cell_type": "markdown",
   "metadata": {},
   "source": [
    "### 8.矩阵操作"
   ]
  },
  {
   "cell_type": "code",
   "execution_count": 132,
   "metadata": {},
   "outputs": [
    {
     "name": "stdout",
     "output_type": "stream",
     "text": [
      "[[ 0.  0.  0.  0.]\n",
      " [ 0.  0.  0.  0.]\n",
      " [ 0.  0.  0.  0.]]\n",
      "[[1 1 1 1 1]\n",
      " [1 1 1 1 1]\n",
      " [1 1 1 1 1]\n",
      " [1 1 1 1 1]]\n",
      "[10 15 20 25]\n",
      "[ 0.          0.06346652  0.12693304  0.19039955  0.25386607  0.31733259\n",
      "  0.38079911  0.44426563  0.50773215  0.57119866  0.63466518  0.6981317\n",
      "  0.76159822  0.82506474  0.88853126  0.95199777  1.01546429  1.07893081\n",
      "  1.14239733  1.20586385  1.26933037  1.33279688  1.3962634   1.45972992\n",
      "  1.52319644  1.58666296  1.65012947  1.71359599  1.77706251  1.84052903\n",
      "  1.90399555  1.96746207  2.03092858  2.0943951   2.15786162  2.22132814\n",
      "  2.28479466  2.34826118  2.41172769  2.47519421  2.53866073  2.60212725\n",
      "  2.66559377  2.72906028  2.7925268   2.85599332  2.91945984  2.98292636\n",
      "  3.04639288  3.10985939  3.17332591  3.23679243  3.30025895  3.36372547\n",
      "  3.42719199  3.4906585   3.55412502  3.61759154  3.68105806  3.74452458\n",
      "  3.8079911   3.87145761  3.93492413  3.99839065  4.06185717  4.12532369\n",
      "  4.1887902   4.25225672  4.31572324  4.37918976  4.44265628  4.5061228\n",
      "  4.56958931  4.63305583  4.69652235  4.75998887  4.82345539  4.88692191\n",
      "  4.95038842  5.01385494  5.07732146  5.14078798  5.2042545   5.26772102\n",
      "  5.33118753  5.39465405  5.45812057  5.52158709  5.58505361  5.64852012\n",
      "  5.71198664  5.77545316  5.83891968  5.9023862   5.96585272  6.02931923\n",
      "  6.09278575  6.15625227  6.21971879  6.28318531]\n",
      "[20 30 40 50]\n",
      "[0 1 2 3]\n",
      "[20 29 38 47]\n",
      "[19 28 37 46]\n",
      "[0 1 4 9]\n",
      "[ True  True False False]\n",
      "[[1 1]\n",
      " [0 1]]\n",
      "[[2 0]\n",
      " [3 4]]\n",
      "--------\n",
      "[[2 0]\n",
      " [0 4]]\n",
      "[[5 4]\n",
      " [3 4]]\n",
      "[[5 4]\n",
      " [3 4]]\n"
     ]
    }
   ],
   "source": [
    "#初始化矩阵，零矩阵\n",
    "print( numpy.zeros((3,4)) )\n",
    "b = numpy.ones((4,5),dtype=numpy.int32)\n",
    "print (b)\n",
    "#造一个范围的数组\n",
    "c = numpy.arange(10, 30, 5)\n",
    "print(c)\n",
    "#随机模块,-1到1之间\n",
    "numpy.random.random((2,3))\n",
    "\n",
    "#在一个范围，平均地找一些数\n",
    "pis = numpy.linspace(0, 2*pi, 100)\n",
    "print (pis)\n",
    "numpy.sin(pis)\n",
    "\n",
    "a = numpy.array([20,30,40,50])\n",
    "b = numpy.arange(4)\n",
    "print (a)\n",
    "print (b)\n",
    "\n",
    "c = a - b\n",
    "print (c)\n",
    "\n",
    "c = c -1\n",
    "print(c)\n",
    "#平方操作\n",
    "print(b**2)\n",
    "print(a<35)\n",
    "\n",
    "\n",
    "A = numpy.array([[1,1],[0,1]])\n",
    "B = numpy.array([[2,0],[3,4]])\n",
    "print(A)\n",
    "print(B)\n",
    "print(\"--------\")\n",
    "#求内积\n",
    "print(A*B)\n",
    "\n",
    "#求矩阵相乘，两种写法\n",
    "print(A.dot(B))\n",
    "print(numpy.dot(A,B))"
   ]
  },
  {
   "cell_type": "markdown",
   "metadata": {},
   "source": [
    "### 9.常用函数"
   ]
  },
  {
   "cell_type": "code",
   "execution_count": 154,
   "metadata": {},
   "outputs": [
    {
     "name": "stdout",
     "output_type": "stream",
     "text": [
      "[0 1 2]\n",
      "[ 1.          2.71828183  7.3890561 ]\n",
      "[ 0.          1.          1.41421356]\n",
      "[[ 3.  1.  8.  3.]\n",
      " [ 5.  3.  0.  1.]\n",
      " [ 0.  0.  2.  4.]]\n",
      "[ 3.  1.  8.  3.  5.  3.  0.  1.  0.  0.  2.  4.]\n",
      "[[ 3.  1.]\n",
      " [ 8.  3.]\n",
      " [ 5.  3.]\n",
      " [ 0.  1.]\n",
      " [ 0.  0.]\n",
      " [ 2.  4.]]\n",
      "[[ 3.  8.  5.  0.  0.  2.]\n",
      " [ 1.  3.  3.  1.  0.  4.]]\n",
      "----------------\n",
      "[[ 4.  8.  9.  2.]\n",
      " [ 5.  3.  9.  7.]\n",
      " [ 8.  2.  6.  4.]]\n",
      "----------------\n",
      "[[ 4.  8.  0.  4.]\n",
      " [ 3.  0.  6.  5.]\n",
      " [ 1.  4.  3.  6.]]\n",
      "----------------\n",
      "[[ 4.  8.  9.  2.]\n",
      " [ 5.  3.  9.  7.]\n",
      " [ 8.  2.  6.  4.]\n",
      " [ 4.  8.  0.  4.]\n",
      " [ 3.  0.  6.  5.]\n",
      " [ 1.  4.  3.  6.]]\n",
      "[[ 4.  8.  9.  2.  4.  8.  0.  4.]\n",
      " [ 5.  3.  9.  7.  3.  0.  6.  5.]\n",
      " [ 8.  2.  6.  4.  1.  4.  3.  6.]]\n",
      "----------------\n",
      "[[ 4.  5.  1.  2.  2.  7.  9.  4.  4.  3.  1.  9.]\n",
      " [ 3.  4.  2.  9.  0.  9.  9.  1.  6.  2.  6.  4.]]\n",
      "----------------\n",
      "[array([[ 4.,  5.,  1.,  2.],\n",
      "       [ 3.,  4.,  2.,  9.]]), array([[ 2.,  7.,  9.,  4.],\n",
      "       [ 0.,  9.,  9.,  1.]]), array([[ 4.,  3.,  1.,  9.],\n",
      "       [ 6.,  2.,  6.,  4.]])]\n",
      "----------------\n",
      "[array([[ 4.,  5.,  1.],\n",
      "       [ 3.,  4.,  2.]]), array([[ 2.],\n",
      "       [ 9.]]), array([[ 2.,  7.,  9.,  4.,  4.,  3.,  1.,  9.],\n",
      "       [ 0.,  9.,  9.,  1.,  6.,  2.,  6.,  4.]])]\n",
      "------vvvvv----------\n",
      "[[ 9.  6.]\n",
      " [ 5.  2.]\n",
      " [ 2.  9.]\n",
      " [ 9.  8.]\n",
      " [ 5.  5.]\n",
      " [ 9.  6.]\n",
      " [ 3.  3.]\n",
      " [ 5.  1.]\n",
      " [ 7.  9.]\n",
      " [ 3.  9.]\n",
      " [ 0.  9.]\n",
      " [ 3.  0.]]\n",
      "----------------\n",
      "[array([[ 9.,  6.],\n",
      "       [ 5.,  2.],\n",
      "       [ 2.,  9.],\n",
      "       [ 9.,  8.]]), array([[ 5.,  5.],\n",
      "       [ 9.,  6.],\n",
      "       [ 3.,  3.],\n",
      "       [ 5.,  1.]]), array([[ 7.,  9.],\n",
      "       [ 3.,  9.],\n",
      "       [ 0.,  9.],\n",
      "       [ 3.,  0.]])]\n",
      "----------------\n",
      "[array([[ 9.,  6.],\n",
      "       [ 5.,  2.],\n",
      "       [ 2.,  9.]]), array([[ 9.,  8.]]), array([[ 5.,  5.],\n",
      "       [ 9.,  6.],\n",
      "       [ 3.,  3.],\n",
      "       [ 5.,  1.],\n",
      "       [ 7.,  9.],\n",
      "       [ 3.,  9.],\n",
      "       [ 0.,  9.],\n",
      "       [ 3.,  0.]])]\n"
     ]
    }
   ],
   "source": [
    "import numpy as np\n",
    "B = np.arange(3)\n",
    "print(B)\n",
    "#e的幂\n",
    "print(np.exp(B))\n",
    "#开方\n",
    "print(np.sqrt(B))\n",
    "#向下取整\n",
    "a = np.floor(10*np.random.random((3,4)))\n",
    "print(a)\n",
    "#矩阵变为向量\n",
    "print(a.ravel())\n",
    "#重新变为指定格式的矩阵\n",
    "a.shape = (6,2)\n",
    "print(a)\n",
    "#转置\n",
    "print(a.T)\n",
    "\n",
    "\n",
    "a = np.floor(10*np.random.random((3,4)))\n",
    "b = np.floor(10*np.random.random((3,4)))\n",
    "print(\"----------------\")\n",
    "print(a)\n",
    "print(\"----------------\")\n",
    "print(b)\n",
    "print(\"----------------\")\n",
    "#按行拼接矩阵\n",
    "print(np.vstack((a,b)))\n",
    "# 按列拼接\n",
    "print(np.hstack((a,b)))\n",
    "\n",
    "print(\"----------------\")\n",
    "a = np.floor(10*np.random.random((2,12)))\n",
    "print(a)\n",
    "print(\"----------------\")\n",
    "#按列平均切分几分\n",
    "print(np.hsplit(a,3))\n",
    "print(\"----------------\")\n",
    "#在指定的列切分\n",
    "print(np.hsplit(a,(3,4)))\n",
    "print(\"------vvvvv----------\")\n",
    "a = np.floor(10*np.random.random((12,2)))\n",
    "print(a)\n",
    "print(\"----------------\")\n",
    "#按行平均切分几分\n",
    "print(np.vsplit(a,3))\n",
    "print(\"----------------\")\n",
    "#在指定的行切分\n",
    "print(np.vsplit(a,(3,4)))"
   ]
  },
  {
   "cell_type": "code",
   "execution_count": 170,
   "metadata": {},
   "outputs": [
    {
     "name": "stdout",
     "output_type": "stream",
     "text": [
      "True\n",
      "[[ 0  1  2  3]\n",
      " [ 4  5  6  7]\n",
      " [ 8  9 10 11]]\n",
      "(3, 4)\n",
      "139669295774256\n",
      "139669295774256\n",
      "----------------\n",
      "False\n",
      "(3, 4)\n",
      "[[   0    1    2    3]\n",
      " [1234    5    6    7]\n",
      " [   8    9   10   11]]\n",
      "139669295774256\n",
      "139669295637888\n",
      "----------------\n",
      "[[ 555    1    2    3]\n",
      " [1234    5    6    7]\n",
      " [   8    9   10   11]]\n",
      "[[   0    1    2    3]\n",
      " [1234    5    6    7]\n",
      " [   8    9   10   11]]\n"
     ]
    }
   ],
   "source": [
    "a = np.arange(12)\n",
    "#两个完全一样\n",
    "b = a\n",
    "print(b is a)\n",
    "b.shape = 3,4\n",
    "print(b)\n",
    "print(a.shape)\n",
    "print(id(a))\n",
    "print(id(b))\n",
    "print(\"----------------\")\n",
    "#浅复制,不推荐使用，虽然不是一样的，但是使用同一个数据\n",
    "c = a.view()\n",
    "print(c is a)\n",
    "c.shape = 2,6\n",
    "print(a.shape)\n",
    "c[0,4] = 1234\n",
    "print(a)\n",
    "print(id(a))\n",
    "print(id(c))\n",
    "print(\"----------------\")\n",
    "#推荐使用copy函数\n",
    "d = a.copy()\n",
    "d is a\n",
    "d[0,0] = 555\n",
    "print(d)\n",
    "print(a)"
   ]
  },
  {
   "cell_type": "code",
   "execution_count": 180,
   "metadata": {},
   "outputs": [
    {
     "name": "stdout",
     "output_type": "stream",
     "text": [
      "[[ 0.          0.84147098  0.90929743  0.14112001]\n",
      " [-0.7568025  -0.95892427 -0.2794155   0.6569866 ]\n",
      " [ 0.98935825  0.41211849 -0.54402111 -0.99999021]\n",
      " [-0.53657292  0.42016704  0.99060736  0.65028784]\n",
      " [-0.28790332 -0.96139749 -0.75098725  0.14987721]]\n",
      "[2 0 3 1]\n",
      "[ 0.98935825  0.84147098  0.99060736  0.6569866 ]\n"
     ]
    }
   ],
   "source": [
    "data = np.sin(np.arange(20)).reshape(5,4)\n",
    "print(data)\n",
    "#取最大值的索引\n",
    "ind = data.argmax(axis=0)\n",
    "print (ind)\n",
    "data_max = data[ind, range(data.shape[1])]\n",
    "print(data_max)"
   ]
  },
  {
   "cell_type": "code",
   "execution_count": 185,
   "metadata": {},
   "outputs": [
    {
     "name": "stdout",
     "output_type": "stream",
     "text": [
      "[ 0 10 20 30]\n",
      "[[ 0 10 20 30  0 10 20 30  0 10 20 30  0 10 20 30  0 10 20 30]\n",
      " [ 0 10 20 30  0 10 20 30  0 10 20 30  0 10 20 30  0 10 20 30]\n",
      " [ 0 10 20 30  0 10 20 30  0 10 20 30  0 10 20 30  0 10 20 30]]\n"
     ]
    }
   ],
   "source": [
    "a = np.arange(0 ,40 , 10)\n",
    "print(a)\n",
    "#行列变为多少倍\n",
    "b = np.tile(a,(3,5))\n",
    "print(b)"
   ]
  },
  {
   "cell_type": "code",
   "execution_count": 194,
   "metadata": {},
   "outputs": [
    {
     "name": "stdout",
     "output_type": "stream",
     "text": [
      "[[4 3 5]\n",
      " [1 2 1]]\n",
      "--------\n",
      "[[1 2 1]\n",
      " [4 3 5]]\n",
      "--------\n",
      "[[3 4 5]\n",
      " [1 1 2]]\n",
      "--------\n",
      "---nnn-----\n",
      "--------\n",
      "[2 3 1 0]\n",
      "--------\n",
      "[1 2 3 4]\n"
     ]
    }
   ],
   "source": [
    "a = np.array([[4,3,5],[1,2,1]])\n",
    "print(a)\n",
    "print('--------')\n",
    "#按列排序\n",
    "b = np.sort(a,axis=0)\n",
    "print(b)\n",
    "print('--------')\n",
    "a.sort(axis=1)\n",
    "print(a)\n",
    "print('--------')\n",
    "print('---nnn-----')\n",
    "a = np.array([4,3,1,2])\n",
    "#取排序时候的索引\n",
    "j = np.argsort(a)\n",
    "print('--------')\n",
    "print(j)\n",
    "print('--------')\n",
    "print(a[j])"
   ]
  },
  {
   "cell_type": "code",
   "execution_count": null,
   "metadata": {
    "collapsed": true
   },
   "outputs": [],
   "source": []
  }
 ],
 "metadata": {
  "kernelspec": {
   "display_name": "Python 3",
   "language": "python",
   "name": "python3"
  },
  "language_info": {
   "codemirror_mode": {
    "name": "ipython",
    "version": 3
   },
   "file_extension": ".py",
   "mimetype": "text/x-python",
   "name": "python",
   "nbconvert_exporter": "python",
   "pygments_lexer": "ipython3",
   "version": "3.6.1"
  },
  "widgets": {
   "application/vnd.jupyter.widget-state+json": {
    "state": {},
    "version_major": 1,
    "version_minor": 0
   }
  }
 },
 "nbformat": 4,
 "nbformat_minor": 2
}
